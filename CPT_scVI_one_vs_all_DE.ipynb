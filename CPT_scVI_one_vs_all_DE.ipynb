{
 "cells": [
  {
   "cell_type": "markdown",
   "metadata": {
    "colab_type": "text",
    "id": "-kflZ39BHOkD"
   },
   "source": [
    "# One vs All Differential expression on Packer, Cao and Taylor C. elegans data using single-cell Variational Inference (scVI)\n"
   ]
  },
  {
   "cell_type": "code",
   "execution_count": 19,
   "metadata": {
    "colab": {
     "base_uri": "https://localhost:8080/",
     "height": 34
    },
    "colab_type": "code",
    "id": "K-2Kt6eX-NA3",
    "outputId": "f55fe4ae-3b9b-4bf5-bcd6-cd6dd925a28f"
   },
   "outputs": [
    {
     "data": {
      "text/plain": [
       "'0.6.3'"
      ]
     },
     "execution_count": 19,
     "metadata": {},
     "output_type": "execute_result"
    }
   ],
   "source": [
    "import scvi\n",
    "scvi.__version__"
   ]
  },
  {
   "cell_type": "code",
   "execution_count": 20,
   "metadata": {
    "colab": {},
    "colab_type": "code",
    "id": "AQbYC1KVHOkF"
   },
   "outputs": [],
   "source": [
    "%matplotlib inline\n",
    "%config InlineBackend.figure_format = 'retina'\n",
    "# Control warnings\n",
    "import warnings; warnings.simplefilter('ignore')\n",
    "\n",
    "import os\n",
    "import numpy as np\n",
    "import pandas as pd\n",
    "\n",
    "import matplotlib.pyplot as plt\n",
    "from scvi.dataset import GeneExpressionDataset\n",
    "from scvi.models import VAE\n",
    "from scvi.inference import UnsupervisedTrainer\n",
    "import torch\n",
    "import anndata\n",
    "\n",
    "import plotly.express as px\n",
    "import plotly.graph_objects as go\n",
    "\n"
   ]
  },
  {
   "cell_type": "code",
   "execution_count": 21,
   "metadata": {
    "colab": {
     "base_uri": "https://localhost:8080/",
     "height": 338
    },
    "colab_type": "code",
    "id": "_eeMJnBBHOkJ",
    "outputId": "664b579e-9af4-4a8e-8e87-f2e47f903774"
   },
   "outputs": [
    {
     "name": "stdout",
     "output_type": "stream",
     "text": [
      "Found the data file! No need to download.\n"
     ]
    }
   ],
   "source": [
    "## Change the path where the models will be saved \n",
    "save_path = \"./\"\n",
    "\n",
    "if os.path.isfile('wormcells-data-2020-03-30.h5ad'):\n",
    "    print (\"Found the data file! No need to download.\")\n",
    "else:\n",
    "    print (\"Downloading data...\")\n",
    "    ! https://github.com/Munfred/wormcells-site/releases/download/Packer2019Taylor2019Cao2019_wrangle2/wormcells-data-2020-03-30.h5ad\n"
   ]
  },
  {
   "cell_type": "code",
   "execution_count": 4,
   "metadata": {
    "colab": {},
    "colab_type": "code",
    "id": "U_GTdS3OHOkN"
   },
   "outputs": [],
   "source": [
    "adata = anndata.read('wormcells-data-2020-03-30.h5ad')"
   ]
  },
  {
   "cell_type": "code",
   "execution_count": 5,
   "metadata": {
    "colab": {
     "base_uri": "https://localhost:8080/",
     "height": 70
    },
    "colab_type": "code",
    "id": "tum3GyaRHOkQ",
    "outputId": "d38a4a68-7b8c-4c77-ec24-c237396dc817"
   },
   "outputs": [
    {
     "data": {
      "text/plain": [
       "AnnData object with n_obs × n_vars = 191138 × 22761 \n",
       "    obs: 'barcode', 'cell_subtype', 'cell_type', 'embryo_time', 'embryo_time_bin', 'experiment', 'lineage', 'numi', 'passed_qc', 'raw_embryo_time', 'raw_embryo_time_bin', 'size_factor', 'study', 'time_point', 'tissue_type'\n",
       "    var: 'gene_name', 'gene_description'"
      ]
     },
     "execution_count": 5,
     "metadata": {},
     "output_type": "execute_result"
    }
   ],
   "source": [
    "adata"
   ]
  },
  {
   "cell_type": "code",
   "execution_count": 6,
   "metadata": {
    "colab": {
     "base_uri": "https://localhost:8080/",
     "height": 52
    },
    "colab_type": "code",
    "id": "xrOU8HSdHOkU",
    "outputId": "b9537038-2883-4525-ee3b-e950b73f26c2"
   },
   "outputs": [
    {
     "data": {
      "text/plain": [
       "<191138x22761 sparse matrix of type '<class 'numpy.float32'>'\n",
       "\twith 124285259 stored elements in Compressed Sparse Row format>"
      ]
     },
     "execution_count": 6,
     "metadata": {},
     "output_type": "execute_result"
    }
   ],
   "source": [
    "adata.X"
   ]
  },
  {
   "cell_type": "markdown",
   "metadata": {
    "colab_type": "text",
    "id": "9M4TTTFoHOkX"
   },
   "source": [
    "### Take a look at the gene descriptions\n",
    "The gene descriptions were taken using the [WormBase API](https://wormbase.org/about/userguide/for_developers#3--10).\n"
   ]
  },
  {
   "cell_type": "code",
   "execution_count": 7,
   "metadata": {
    "colab": {
     "base_uri": "https://localhost:8080/",
     "height": 275
    },
    "colab_type": "code",
    "id": "UzH8uC5VHOkY",
    "outputId": "0e594d33-f318-45cf-f08c-fed0919ccda6"
   },
   "outputs": [
    {
     "data": {
      "text/html": [
       "<style  type=\"text/css\" >\n",
       "    #T_ad681dfa_8b55_11ea_8e3c_97e7100a77e7row0_col1 {\n",
       "            width:  600px;\n",
       "        }    #T_ad681dfa_8b55_11ea_8e3c_97e7100a77e7row1_col1 {\n",
       "            width:  600px;\n",
       "        }</style><table id=\"T_ad681dfa_8b55_11ea_8e3c_97e7100a77e7\" ><thead>    <tr>        <th class=\"blank level0\" ></th>        <th class=\"col_heading level0 col0\" >gene_name</th>        <th class=\"col_heading level0 col1\" >gene_description</th>    </tr>    <tr>        <th class=\"index_name level0\" >gene_id</th>        <th class=\"blank\" ></th>        <th class=\"blank\" ></th>    </tr></thead><tbody>\n",
       "                <tr>\n",
       "                        <th id=\"T_ad681dfa_8b55_11ea_8e3c_97e7100a77e7level0_row0\" class=\"row_heading level0 row0\" >WBGene00000001</th>\n",
       "                        <td id=\"T_ad681dfa_8b55_11ea_8e3c_97e7100a77e7row0_col0\" class=\"data row0 col0\" >aap-1</td>\n",
       "                        <td id=\"T_ad681dfa_8b55_11ea_8e3c_97e7100a77e7row0_col1\" class=\"data row0 col1\" >Exhibits protein kinase binding activity. <br>Involved in dauer larval development; determination of adult lifespan; and insulin receptor signaling pathway. <br>Localizes to the phosphatidylinositol 3-kinase complex. <br>Human ortholog(s) of this gene implicated in several diseases, including astroblastoma; carcinoma (multiple); endometrial cancer (multiple); primary immunodeficiency disease (multiple); and type 2 diabetes mellitus. <br>Is expressed in intestine and neurons. <br>Orthologous to several human genes including PIK3R3 (phosphoinositide-3-kinase regulatory subunit 3).</td>\n",
       "            </tr>\n",
       "            <tr>\n",
       "                        <th id=\"T_ad681dfa_8b55_11ea_8e3c_97e7100a77e7level0_row1\" class=\"row_heading level0 row1\" >WBGene00000002</th>\n",
       "                        <td id=\"T_ad681dfa_8b55_11ea_8e3c_97e7100a77e7row1_col0\" class=\"data row1 col0\" >aat-1</td>\n",
       "                        <td id=\"T_ad681dfa_8b55_11ea_8e3c_97e7100a77e7row1_col1\" class=\"data row1 col1\" >Contributes to L-amino acid transmembrane transporter activity. <br>Involved in amino acid transmembrane transport. <br>Localizes to the amino acid transport complex. <br>Is expressed in several structures, including excretory system; gonadal sheath cell; nervous system; pharynx; and rectal gland cell. <br>Orthologous to several human genes including SLC7A8 (solute carrier family 7 member 8).</td>\n",
       "            </tr>\n",
       "    </tbody></table>"
      ],
      "text/plain": [
       "<pandas.io.formats.style.Styler at 0x2aac0569d510>"
      ]
     },
     "metadata": {},
     "output_type": "display_data"
    }
   ],
   "source": [
    "display(adata.var.head(2).style.set_properties(subset=['gene_description'], **{'width': '600px'}))"
   ]
  },
  {
   "cell_type": "code",
   "execution_count": 8,
   "metadata": {
    "colab": {
     "base_uri": "https://localhost:8080/",
     "height": 467
    },
    "colab_type": "code",
    "id": "NGg7WD9vHOkb",
    "outputId": "f0506eb0-bd54-4b41-e2c2-7eef288f7968"
   },
   "outputs": [
    {
     "data": {
      "text/html": [
       "<div>\n",
       "<style scoped>\n",
       "    .dataframe tbody tr th:only-of-type {\n",
       "        vertical-align: middle;\n",
       "    }\n",
       "\n",
       "    .dataframe tbody tr th {\n",
       "        vertical-align: top;\n",
       "    }\n",
       "\n",
       "    .dataframe thead th {\n",
       "        text-align: right;\n",
       "    }\n",
       "</style>\n",
       "<table border=\"1\" class=\"dataframe\">\n",
       "  <thead>\n",
       "    <tr style=\"text-align: right;\">\n",
       "      <th></th>\n",
       "      <th>barcode</th>\n",
       "      <th>cell_subtype</th>\n",
       "      <th>cell_type</th>\n",
       "      <th>embryo_time</th>\n",
       "      <th>embryo_time_bin</th>\n",
       "      <th>experiment</th>\n",
       "      <th>lineage</th>\n",
       "      <th>numi</th>\n",
       "      <th>passed_qc</th>\n",
       "      <th>raw_embryo_time</th>\n",
       "      <th>raw_embryo_time_bin</th>\n",
       "      <th>size_factor</th>\n",
       "      <th>study</th>\n",
       "      <th>time_point</th>\n",
       "      <th>tissue_type</th>\n",
       "    </tr>\n",
       "  </thead>\n",
       "  <tbody>\n",
       "    <tr>\n",
       "      <th>0-cao</th>\n",
       "      <td>A01_A02_AACTACCGAC</td>\n",
       "      <td>nan</td>\n",
       "      <td>hyp_4_to_7_bin_3_around_L2_molt</td>\n",
       "      <td>NaN</td>\n",
       "      <td>nan</td>\n",
       "      <td>L2_experiment_1</td>\n",
       "      <td>nan</td>\n",
       "      <td>NaN</td>\n",
       "      <td>nan</td>\n",
       "      <td>NaN</td>\n",
       "      <td>nan</td>\n",
       "      <td>NaN</td>\n",
       "      <td>cao</td>\n",
       "      <td>nan</td>\n",
       "      <td>nan</td>\n",
       "    </tr>\n",
       "    <tr>\n",
       "      <th>1-cao</th>\n",
       "      <td>A01_A02_AACTACGGCT</td>\n",
       "      <td>nan</td>\n",
       "      <td>ASI</td>\n",
       "      <td>NaN</td>\n",
       "      <td>nan</td>\n",
       "      <td>L2_experiment_1</td>\n",
       "      <td>nan</td>\n",
       "      <td>NaN</td>\n",
       "      <td>nan</td>\n",
       "      <td>NaN</td>\n",
       "      <td>nan</td>\n",
       "      <td>NaN</td>\n",
       "      <td>cao</td>\n",
       "      <td>nan</td>\n",
       "      <td>nan</td>\n",
       "    </tr>\n",
       "    <tr>\n",
       "      <th>2-cao</th>\n",
       "      <td>A01_A02_AACTATTATA</td>\n",
       "      <td>nan</td>\n",
       "      <td>mu_sph</td>\n",
       "      <td>NaN</td>\n",
       "      <td>nan</td>\n",
       "      <td>L2_experiment_1</td>\n",
       "      <td>nan</td>\n",
       "      <td>NaN</td>\n",
       "      <td>nan</td>\n",
       "      <td>NaN</td>\n",
       "      <td>nan</td>\n",
       "      <td>NaN</td>\n",
       "      <td>cao</td>\n",
       "      <td>nan</td>\n",
       "      <td>nan</td>\n",
       "    </tr>\n",
       "    <tr>\n",
       "      <th>3-cao</th>\n",
       "      <td>A01_A02_AAGACGGCCA</td>\n",
       "      <td>nan</td>\n",
       "      <td>Germline</td>\n",
       "      <td>NaN</td>\n",
       "      <td>nan</td>\n",
       "      <td>L2_experiment_1</td>\n",
       "      <td>nan</td>\n",
       "      <td>NaN</td>\n",
       "      <td>nan</td>\n",
       "      <td>NaN</td>\n",
       "      <td>nan</td>\n",
       "      <td>NaN</td>\n",
       "      <td>cao</td>\n",
       "      <td>nan</td>\n",
       "      <td>nan</td>\n",
       "    </tr>\n",
       "    <tr>\n",
       "      <th>4-cao</th>\n",
       "      <td>A01_A02_AAGTTGCCAT</td>\n",
       "      <td>nan</td>\n",
       "      <td>Germline</td>\n",
       "      <td>NaN</td>\n",
       "      <td>nan</td>\n",
       "      <td>L2_experiment_1</td>\n",
       "      <td>nan</td>\n",
       "      <td>NaN</td>\n",
       "      <td>nan</td>\n",
       "      <td>NaN</td>\n",
       "      <td>nan</td>\n",
       "      <td>NaN</td>\n",
       "      <td>cao</td>\n",
       "      <td>nan</td>\n",
       "      <td>nan</td>\n",
       "    </tr>\n",
       "  </tbody>\n",
       "</table>\n",
       "</div>"
      ],
      "text/plain": [
       "                  barcode cell_subtype                        cell_type  \\\n",
       "0-cao  A01_A02_AACTACCGAC          nan  hyp_4_to_7_bin_3_around_L2_molt   \n",
       "1-cao  A01_A02_AACTACGGCT          nan                              ASI   \n",
       "2-cao  A01_A02_AACTATTATA          nan                           mu_sph   \n",
       "3-cao  A01_A02_AAGACGGCCA          nan                         Germline   \n",
       "4-cao  A01_A02_AAGTTGCCAT          nan                         Germline   \n",
       "\n",
       "       embryo_time embryo_time_bin       experiment lineage  numi passed_qc  \\\n",
       "0-cao          NaN             nan  L2_experiment_1     nan   NaN       nan   \n",
       "1-cao          NaN             nan  L2_experiment_1     nan   NaN       nan   \n",
       "2-cao          NaN             nan  L2_experiment_1     nan   NaN       nan   \n",
       "3-cao          NaN             nan  L2_experiment_1     nan   NaN       nan   \n",
       "4-cao          NaN             nan  L2_experiment_1     nan   NaN       nan   \n",
       "\n",
       "       raw_embryo_time raw_embryo_time_bin  size_factor study time_point  \\\n",
       "0-cao              NaN                 nan          NaN   cao        nan   \n",
       "1-cao              NaN                 nan          NaN   cao        nan   \n",
       "2-cao              NaN                 nan          NaN   cao        nan   \n",
       "3-cao              NaN                 nan          NaN   cao        nan   \n",
       "4-cao              NaN                 nan          NaN   cao        nan   \n",
       "\n",
       "      tissue_type  \n",
       "0-cao         nan  \n",
       "1-cao         nan  \n",
       "2-cao         nan  \n",
       "3-cao         nan  \n",
       "4-cao         nan  "
      ]
     },
     "execution_count": 8,
     "metadata": {},
     "output_type": "execute_result"
    }
   ],
   "source": [
    "adata.obs.head()"
   ]
  },
  {
   "cell_type": "markdown",
   "metadata": {
    "colab_type": "text",
    "id": "u9K0Cyl-HOke"
   },
   "source": [
    "\n",
    "## Loading data\n",
    "\n",
    "Here, each experiment correspond to a batch."
   ]
  },
  {
   "cell_type": "code",
   "execution_count": 9,
   "metadata": {
    "colab": {
     "base_uri": "https://localhost:8080/",
     "height": 265
    },
    "colab_type": "code",
    "id": "TJ0vm6RiHOkf",
    "outputId": "63105f9a-ba6e-475a-d6b8-189b825a56a8"
   },
   "outputs": [
    {
     "name": "stdout",
     "output_type": "stream",
     "text": [
      "[2020-04-30 19:44:29,070] INFO - scvi.dataset.dataset | Remapping batch_indices to [0,N]\n",
      "[2020-04-30 19:44:29,076] INFO - scvi.dataset.dataset | Remapping labels to [0,N]\n",
      "[2020-04-30 19:44:29,510] INFO - scvi.dataset.dataset | Downsampling from 22761 to 7400 genes\n",
      "[2020-04-30 19:44:31,255] INFO - scvi.dataset.dataset | Computing the library size for the new data\n",
      "[2020-04-30 19:44:31,554] INFO - scvi.dataset.dataset | Filtering non-expressing cells.\n",
      "[2020-04-30 19:44:32,904] INFO - scvi.dataset.dataset | Computing the library size for the new data\n",
      "[2020-04-30 19:44:33,192] INFO - scvi.dataset.dataset | Downsampled from 191138 to 191138 cells\n"
     ]
    }
   ],
   "source": [
    "gene_dataset = GeneExpressionDataset()\n",
    "\n",
    "# we provide the `batch_indices` so that scvi can perform batch correction\n",
    "gene_dataset.populate_from_data(\n",
    "            adata.X,\n",
    "            gene_names=adata.var.index.values,\n",
    "            cell_types=adata.obs['cell_type'].values,\n",
    "            batch_indices=adata.obs['experiment'].cat.codes.values,\n",
    "            )\n",
    "\n",
    "# We retrain all genes \n",
    "gene_dataset.filter_genes_by_count(per_batch=True)\n",
    "sel_genes = gene_dataset.gene_names\n"
   ]
  },
  {
   "cell_type": "code",
   "execution_count": 10,
   "metadata": {
    "colab": {
     "base_uri": "https://localhost:8080/",
     "height": 87
    },
    "colab_type": "code",
    "id": "QQSP87NaHOkh",
    "outputId": "9fa63851-f9da-44f2-ec08-b18d1585078d"
   },
   "outputs": [
    {
     "data": {
      "text/plain": [
       "[hyp_4_to_7_bin_3_around_L2_molt, ASI, mu_sph, Germline, Germline, ..., BDU, RIA, SMB, ASG, VB]\n",
       "Length: 191138\n",
       "Categories (342, object): [ABarpaaa_lineage, ADA?, ADA_ADE_grandparent, ADE, ..., pm6_and_possibly_pm7, pm7, pm8, rect_D]"
      ]
     },
     "execution_count": 10,
     "metadata": {},
     "output_type": "execute_result"
    }
   ],
   "source": [
    "adata.obs['cell_type'].values"
   ]
  },
  {
   "cell_type": "markdown",
   "metadata": {
    "colab_type": "text",
    "id": "SC6C1aquHOkk"
   },
   "source": [
    "## Define the model"
   ]
  },
  {
   "cell_type": "markdown",
   "metadata": {
    "colab_type": "text",
    "id": "dalZE5ckHOkl"
   },
   "source": [
    "* __n_epochs__: Maximum number of epochs to train the model.   \n",
    "    If the likelihood change is small than a set threshold training will stop automatically. \n",
    "* __lr__: learning rate. Set to 0.001 here. \n",
    "* __use_cuda__: Set to true to use CUDA (GPU required) \n"
   ]
  },
  {
   "cell_type": "markdown",
   "metadata": {
    "colab_type": "text",
    "id": "eFwnkR14HOkp"
   },
   "source": [
    "We now create the model and the trainer object. We train the model and output model likelihood every epoch. In order to evaluate the likelihood on a test set, we split the datasets (the current code can also so train/validation/test).\n",
    "\n",
    "If a pre-trained model already exist in the save_path then load the same model rather than re-training it. This is particularly useful for large datasets."
   ]
  },
  {
   "cell_type": "code",
   "execution_count": 14,
   "metadata": {
    "colab": {},
    "colab_type": "code",
    "id": "6VGMd4pfHOkp"
   },
   "outputs": [],
   "source": [
    "# for this dataset 5 epochs is sufficient \n",
    "n_epochs = 10\n",
    "lr = 1e-3\n",
    "use_cuda = False # we are loading a CPU trained model so this should be false\n",
    "\n",
    "# set the VAE to perform batch correction\n",
    "vae = VAE(gene_dataset.nb_genes, n_batch=gene_dataset.n_batches)\n",
    "\n",
    "trainer = UnsupervisedTrainer(\n",
    "    vae,\n",
    "    gene_dataset,\n",
    "    train_size=0.75, # number between 0 and 1, default 0.8\n",
    "    use_cuda=use_cuda,\n",
    "    frequency=1,\n",
    ")"
   ]
  },
  {
   "cell_type": "markdown",
   "metadata": {},
   "source": [
    "## Training or loading a pretrained model\n",
    "\n",
    "Note that if you already have the file `CPT_vae_cpu2.pkl` it will load it instead of training from scratch"
   ]
  },
  {
   "cell_type": "code",
   "execution_count": 75,
   "metadata": {},
   "outputs": [
    {
     "name": "stdout",
     "output_type": "stream",
     "text": [
      "Found the pretrained model! No need to download\n"
     ]
    }
   ],
   "source": [
    "# download the model\n",
    "vae_file_name = 'CPT_vae_cpu3.pkl'\n",
    "\n",
    "if os.path.isfile('CPT_vae_cpu3.pkl'):\n",
    "    print (\"Found the pretrained model! No need to download\")\n",
    "else:\n",
    "    print (\"Downloading pretrained model...\")\n",
    "    ! https://github.com/Munfred/worm-notebooks/releases/download/CPT_vae_cpu_v3/CPT_vae_cpu3.pkl\n",
    "        \n",
    "        "
   ]
  },
  {
   "cell_type": "code",
   "execution_count": 16,
   "metadata": {
    "colab": {
     "base_uri": "https://localhost:8080/",
     "height": 52
    },
    "colab_type": "code",
    "id": "lcOREzO1HOku",
    "outputId": "2cf2f5bb-a709-4035-ec99-760fc4f3dbfc"
   },
   "outputs": [
    {
     "name": "stdout",
     "output_type": "stream",
     "text": [
      "[2020-04-30 20:01:25,822] INFO - scvi.inference.inference | KL warmup phase exceeds overall training phaseIf your applications rely on the posterior quality, consider training for more epochs or reducing the kl warmup.\n",
      "[2020-04-30 20:01:25,824] INFO - scvi.inference.inference | KL warmup for 400 epochs\n"
     ]
    },
    {
     "data": {
      "application/vnd.jupyter.widget-view+json": {
       "model_id": "a4ab7f53c5884d708e00b94b50af63d5",
       "version_major": 2,
       "version_minor": 0
      },
      "text/plain": [
       "HBox(children=(IntProgress(value=0, description='training', max=10, style=ProgressStyle(description_width='ini…"
      ]
     },
     "metadata": {},
     "output_type": "display_data"
    },
    {
     "name": "stdout",
     "output_type": "stream",
     "text": [
      "\n",
      "[2020-04-30 21:23:49,573] INFO - scvi.inference.inference | Training is still in warming up phase. If your applications rely on the posterior quality, consider training for more epochs or reducing the kl warmup.\n"
     ]
    }
   ],
   "source": [
    "# check if a previously trained model already exists, if yes load it\n",
    "\n",
    "full_file_save_path = os.path.join(save_path, vae_file_name)\n",
    "\n",
    "if os.path.isfile(full_file_save_path):\n",
    "    trainer.model.load_state_dict(torch.load(full_file_save_path))\n",
    "    trainer.model.eval()\n",
    "else:\n",
    "    trainer.train(n_epochs=n_epochs, lr=lr)\n",
    "    torch.save(trainer.model.state_dict(), full_file_save_path)"
   ]
  },
  {
   "cell_type": "markdown",
   "metadata": {
    "colab_type": "text",
    "id": "OV6Lr1lvHOkz"
   },
   "source": [
    "\n",
    "### Plotting the likelihood change across training\n"
   ]
  },
  {
   "cell_type": "code",
   "execution_count": 17,
   "metadata": {
    "colab": {},
    "colab_type": "code",
    "id": "Lp_iCGdfHOk0"
   },
   "outputs": [
    {
     "data": {
      "text/html": [
       "<div>\n",
       "<style scoped>\n",
       "    .dataframe tbody tr th:only-of-type {\n",
       "        vertical-align: middle;\n",
       "    }\n",
       "\n",
       "    .dataframe tbody tr th {\n",
       "        vertical-align: top;\n",
       "    }\n",
       "\n",
       "    .dataframe thead th {\n",
       "        text-align: right;\n",
       "    }\n",
       "</style>\n",
       "<table border=\"1\" class=\"dataframe\">\n",
       "  <thead>\n",
       "    <tr style=\"text-align: right;\">\n",
       "      <th></th>\n",
       "      <th>Train</th>\n",
       "      <th>Test</th>\n",
       "    </tr>\n",
       "  </thead>\n",
       "  <tbody>\n",
       "    <tr>\n",
       "      <th>0</th>\n",
       "      <td>12538.038968</td>\n",
       "      <td>12466.712955</td>\n",
       "    </tr>\n",
       "    <tr>\n",
       "      <th>1</th>\n",
       "      <td>1980.652337</td>\n",
       "      <td>1977.399635</td>\n",
       "    </tr>\n",
       "    <tr>\n",
       "      <th>2</th>\n",
       "      <td>1928.391457</td>\n",
       "      <td>1928.017037</td>\n",
       "    </tr>\n",
       "    <tr>\n",
       "      <th>3</th>\n",
       "      <td>1902.241703</td>\n",
       "      <td>1902.016955</td>\n",
       "    </tr>\n",
       "    <tr>\n",
       "      <th>4</th>\n",
       "      <td>1882.587995</td>\n",
       "      <td>1882.466128</td>\n",
       "    </tr>\n",
       "    <tr>\n",
       "      <th>5</th>\n",
       "      <td>1866.266035</td>\n",
       "      <td>1866.090033</td>\n",
       "    </tr>\n",
       "    <tr>\n",
       "      <th>6</th>\n",
       "      <td>1856.505079</td>\n",
       "      <td>1856.122612</td>\n",
       "    </tr>\n",
       "    <tr>\n",
       "      <th>7</th>\n",
       "      <td>1851.608431</td>\n",
       "      <td>1851.469275</td>\n",
       "    </tr>\n",
       "    <tr>\n",
       "      <th>8</th>\n",
       "      <td>1849.038867</td>\n",
       "      <td>1848.898976</td>\n",
       "    </tr>\n",
       "    <tr>\n",
       "      <th>9</th>\n",
       "      <td>1839.670509</td>\n",
       "      <td>1840.135183</td>\n",
       "    </tr>\n",
       "    <tr>\n",
       "      <th>10</th>\n",
       "      <td>1837.149847</td>\n",
       "      <td>1837.366942</td>\n",
       "    </tr>\n",
       "  </tbody>\n",
       "</table>\n",
       "</div>"
      ],
      "text/plain": [
       "           Train          Test\n",
       "0   12538.038968  12466.712955\n",
       "1    1980.652337   1977.399635\n",
       "2    1928.391457   1928.017037\n",
       "3    1902.241703   1902.016955\n",
       "4    1882.587995   1882.466128\n",
       "5    1866.266035   1866.090033\n",
       "6    1856.505079   1856.122612\n",
       "7    1851.608431   1851.469275\n",
       "8    1849.038867   1848.898976\n",
       "9    1839.670509   1840.135183\n",
       "10   1837.149847   1837.366942"
      ]
     },
     "execution_count": 17,
     "metadata": {},
     "output_type": "execute_result"
    }
   ],
   "source": [
    "train_test_results = pd.DataFrame(trainer.history).rename(columns={'elbo_train_set':'Train', 'elbo_test_set':'Test'})\n",
    "\n",
    "train_test_results"
   ]
  },
  {
   "cell_type": "code",
   "execution_count": 18,
   "metadata": {
    "colab": {},
    "colab_type": "code",
    "id": "rcZ3OVFzHOk3"
   },
   "outputs": [
    {
     "data": {
      "image/png": "[encoded data removed]",
      "text/plain": [
       "<Figure size 432x288 with 1 Axes>"
      ]
     },
     "metadata": {
      "image/png": {
       "height": 263,
       "width": 408
      },
      "needs_background": "light"
     },
     "output_type": "display_data"
    }
   ],
   "source": [
    "ax = train_test_results.plot()\n",
    "ax.set_xlabel(\"Epoch\")\n",
    "ax.set_ylabel(\"Error\")\n",
    "plt.show()"
   ]
  },
  {
   "cell_type": "markdown",
   "metadata": {
    "colab_type": "text",
    "id": "lsJzdOyvHOk6"
   },
   "source": [
    "\n",
    "\n",
    "## Obtaining the posterior object and sample latent space\n",
    "\n",
    "The posterior object contains a model and a gene_dataset, as well as additional arguments that for Pytorch's `DataLoader`. It also comes with many methods or utilities querying the model, such as differential expression, imputation and differential analyisis.\n",
    "\n",
    "\n",
    "To get an ordered output result, we might use `.sequential` posterior's method which return another instance of posterior (with shallow copy of all its object references), but where the iteration is in the same ordered as its  indices attribute."
   ]
  },
  {
   "cell_type": "code",
   "execution_count": 30,
   "metadata": {
    "colab": {
     "base_uri": "https://localhost:8080/",
     "height": 34
    },
    "colab_type": "code",
    "id": "URsjPJxCHOk9",
    "outputId": "a29b7890-c100-4412-f877-a71b72779527"
   },
   "outputs": [
    {
     "data": {
      "text/plain": [
       "(191138, 10)"
      ]
     },
     "execution_count": 30,
     "metadata": {},
     "output_type": "execute_result"
    }
   ],
   "source": [
    "# scvi tutorial latent space code\n",
    "full = trainer.create_posterior(trainer.model, gene_dataset, indices=np.arange(len(gene_dataset)))\n",
    "latent, batch_indices, labels = full.sequential().get_latent()\n",
    "batch_indices = batch_indices.ravel()\n",
    "latent.shape"
   ]
  },
  {
   "cell_type": "code",
   "execution_count": 31,
   "metadata": {
    "colab": {
     "base_uri": "https://localhost:8080/",
     "height": 70
    },
    "colab_type": "code",
    "id": "I8wz1jvmHOk_",
    "outputId": "56bad87c-8e3e-4560-f9e9-183b3dc4fad6"
   },
   "outputs": [
    {
     "data": {
      "text/plain": [
       "AnnData object with n_obs × n_vars = 191138 × 7400 \n",
       "    obs: 'barcode', 'cell_subtype', 'cell_type', 'embryo_time', 'embryo_time_bin', 'experiment', 'lineage', 'numi', 'passed_qc', 'raw_embryo_time', 'raw_embryo_time_bin', 'size_factor', 'study', 'time_point', 'tissue_type'\n",
       "    obsm: 'latent'"
      ]
     },
     "execution_count": 31,
     "metadata": {},
     "output_type": "execute_result"
    }
   ],
   "source": [
    "# store the latent space in a new anndata object\n",
    "post_adata = anndata.AnnData(X=gene_dataset.X)\n",
    "post_adata.obs=adata.obs\n",
    "post_adata.obsm[\"latent\"] = latent\n",
    "post_adata"
   ]
  },
  {
   "cell_type": "markdown",
   "metadata": {
    "colab_type": "text",
    "id": "L5W-6dvsHOlU"
   },
   "source": [
    "\n",
    "\n",
    "### Selecting cells to compare"
   ]
  },
  {
   "cell_type": "code",
   "execution_count": 32,
   "metadata": {
    "colab": {
     "base_uri": "https://localhost:8080/",
     "height": 0
    },
    "colab_type": "code",
    "id": "xCh28JZEHOlV",
    "outputId": "73645d6d-65cc-4cc3-b0d2-f74858a362b1"
   },
   "outputs": [
    {
     "data": {
      "text/plain": [
       "nan                           30326\n",
       "BWM_posterior                  6825\n",
       "VB                             6706\n",
       "Coelomocyte                    6606\n",
       "BWM_anterior                   6169\n",
       "Germline                       6159\n",
       "BWM_middle_and_posterior       3331\n",
       "Body_wall_muscle               3091\n",
       "Epidermis                      2888\n",
       "Seam_cell                      2766\n",
       "CAN                            2432\n",
       "BWM_head_row_1                 2384\n",
       "Hypodermis                     2288\n",
       "BWM_head_row_2                 2106\n",
       "RIA                            2067\n",
       "SIA                            2022\n",
       "DB                             1980\n",
       "pm3_pm4_pm5                    1925\n",
       "hyp7_C_lineage                 1774\n",
       "ASG                            1582\n",
       "AVK                            1534\n",
       "ADL                            1473\n",
       "Ciliated_non_amphid_neuron     1469\n",
       "AIB                            1313\n",
       "Intestine                      1217\n",
       "BWM_far_posterior              1197\n",
       "VC_1-3;6                       1172\n",
       "VA_SAB                         1152\n",
       "ASJ                            1134\n",
       "BWM_neck                       1130\n",
       "Name: cell_type, dtype: int64"
      ]
     },
     "execution_count": 32,
     "metadata": {},
     "output_type": "execute_result"
    }
   ],
   "source": [
    "# let's take a look at abundances of different cell types\n",
    "adata.obs['cell_type'].value_counts()[:30]"
   ]
  },
  {
   "cell_type": "code",
   "execution_count": 33,
   "metadata": {
    "colab": {
     "base_uri": "https://localhost:8080/",
     "height": 0
    },
    "colab_type": "code",
    "id": "ud9vpmivHOlY",
    "outputId": "3d92819e-0208-4d0a-ab98-63622cc90c8e"
   },
   "outputs": [
    {
     "name": "stdout",
     "output_type": "stream",
     "text": [
      "1473 cells of type ADL\n",
      "1313 cells of type AIB\n"
     ]
    }
   ],
   "source": [
    "# let's pick two cell types\n",
    "cell_type_1 = 'ADL'\n",
    "cell_type_2 = 'AIB'\n",
    "\n",
    "\n",
    "cell_idx1 = adata.obs['cell_type'] == cell_type_1\n",
    "print(sum(cell_idx1), 'cells of type', cell_type_1)\n",
    "cell_idx2 = adata.obs['cell_type'] == cell_type_2\n",
    "print(sum(cell_idx2), 'cells of type', cell_type_2)"
   ]
  },
  {
   "cell_type": "code",
   "execution_count": 34,
   "metadata": {
    "colab": {},
    "colab_type": "code",
    "id": "Sa-kJpoaHOld"
   },
   "outputs": [],
   "source": [
    "n_samples = 10000\n",
    "M_permutation = 10000"
   ]
  },
  {
   "cell_type": "code",
   "execution_count": 36,
   "metadata": {
    "colab": {
     "base_uri": "https://localhost:8080/",
     "height": 0
    },
    "colab_type": "code",
    "id": "LNTPsoV0HOlg",
    "outputId": "c0b6f87e-86d0-43d3-be07-ff12c24fbdbd"
   },
   "outputs": [],
   "source": [
    "de_vanilla = full.differential_expression_score(\n",
    "    idx1 = cell_idx1.values, \n",
    "    idx2 = cell_idx2.values, \n",
    "    mode='vanilla', # vanilla is the default\n",
    "    n_samples=n_samples, \n",
    "    M_permutation=M_permutation,\n",
    ")"
   ]
  },
  {
   "cell_type": "code",
   "execution_count": 37,
   "metadata": {
    "colab": {
     "base_uri": "https://localhost:8080/",
     "height": 197
    },
    "colab_type": "code",
    "id": "7wi_ccjaHOll",
    "outputId": "12fa41f7-c31c-4bc6-bafe-edf2f6c7f19a"
   },
   "outputs": [
    {
     "data": {
      "text/html": [
       "<div>\n",
       "<style scoped>\n",
       "    .dataframe tbody tr th:only-of-type {\n",
       "        vertical-align: middle;\n",
       "    }\n",
       "\n",
       "    .dataframe tbody tr th {\n",
       "        vertical-align: top;\n",
       "    }\n",
       "\n",
       "    .dataframe thead th {\n",
       "        text-align: right;\n",
       "    }\n",
       "</style>\n",
       "<table border=\"1\" class=\"dataframe\">\n",
       "  <thead>\n",
       "    <tr style=\"text-align: right;\">\n",
       "      <th></th>\n",
       "      <th>proba_m1</th>\n",
       "      <th>proba_m2</th>\n",
       "      <th>bayes_factor</th>\n",
       "      <th>scale1</th>\n",
       "      <th>scale2</th>\n",
       "      <th>raw_mean1</th>\n",
       "      <th>raw_mean2</th>\n",
       "      <th>non_zeros_proportion1</th>\n",
       "      <th>non_zeros_proportion2</th>\n",
       "      <th>raw_normalized_mean1</th>\n",
       "      <th>raw_normalized_mean2</th>\n",
       "    </tr>\n",
       "  </thead>\n",
       "  <tbody>\n",
       "    <tr>\n",
       "      <th>WBGene00000484</th>\n",
       "      <td>0.9998</td>\n",
       "      <td>0.0002</td>\n",
       "      <td>8.516543</td>\n",
       "      <td>0.000138</td>\n",
       "      <td>0.000004</td>\n",
       "      <td>0.254582</td>\n",
       "      <td>0.001523</td>\n",
       "      <td>0.186015</td>\n",
       "      <td>0.001523</td>\n",
       "      <td>1.902635</td>\n",
       "      <td>0.014351</td>\n",
       "    </tr>\n",
       "    <tr>\n",
       "      <th>WBGene00019395</th>\n",
       "      <td>0.9997</td>\n",
       "      <td>0.0003</td>\n",
       "      <td>8.110995</td>\n",
       "      <td>0.000215</td>\n",
       "      <td>0.000003</td>\n",
       "      <td>0.353700</td>\n",
       "      <td>0.001523</td>\n",
       "      <td>0.250509</td>\n",
       "      <td>0.001523</td>\n",
       "      <td>2.337339</td>\n",
       "      <td>0.011882</td>\n",
       "    </tr>\n",
       "    <tr>\n",
       "      <th>WBGene00022503</th>\n",
       "      <td>0.9997</td>\n",
       "      <td>0.0003</td>\n",
       "      <td>8.110995</td>\n",
       "      <td>0.000510</td>\n",
       "      <td>0.000022</td>\n",
       "      <td>1.171083</td>\n",
       "      <td>0.001523</td>\n",
       "      <td>0.429056</td>\n",
       "      <td>0.001523</td>\n",
       "      <td>7.736886</td>\n",
       "      <td>0.007626</td>\n",
       "    </tr>\n",
       "    <tr>\n",
       "      <th>WBGene00000242</th>\n",
       "      <td>0.9995</td>\n",
       "      <td>0.0005</td>\n",
       "      <td>7.599982</td>\n",
       "      <td>0.000441</td>\n",
       "      <td>0.000006</td>\n",
       "      <td>0.641550</td>\n",
       "      <td>0.002285</td>\n",
       "      <td>0.340122</td>\n",
       "      <td>0.002285</td>\n",
       "      <td>4.354659</td>\n",
       "      <td>0.018804</td>\n",
       "    </tr>\n",
       "    <tr>\n",
       "      <th>WBGene00021416</th>\n",
       "      <td>0.9994</td>\n",
       "      <td>0.0006</td>\n",
       "      <td>7.417564</td>\n",
       "      <td>0.000754</td>\n",
       "      <td>0.000019</td>\n",
       "      <td>2.108622</td>\n",
       "      <td>0.009139</td>\n",
       "      <td>0.540394</td>\n",
       "      <td>0.006855</td>\n",
       "      <td>14.367755</td>\n",
       "      <td>0.082081</td>\n",
       "    </tr>\n",
       "  </tbody>\n",
       "</table>\n",
       "</div>"
      ],
      "text/plain": [
       "                proba_m1  proba_m2  bayes_factor    scale1    scale2  \\\n",
       "WBGene00000484    0.9998    0.0002      8.516543  0.000138  0.000004   \n",
       "WBGene00019395    0.9997    0.0003      8.110995  0.000215  0.000003   \n",
       "WBGene00022503    0.9997    0.0003      8.110995  0.000510  0.000022   \n",
       "WBGene00000242    0.9995    0.0005      7.599982  0.000441  0.000006   \n",
       "WBGene00021416    0.9994    0.0006      7.417564  0.000754  0.000019   \n",
       "\n",
       "                raw_mean1  raw_mean2  non_zeros_proportion1  \\\n",
       "WBGene00000484   0.254582   0.001523               0.186015   \n",
       "WBGene00019395   0.353700   0.001523               0.250509   \n",
       "WBGene00022503   1.171083   0.001523               0.429056   \n",
       "WBGene00000242   0.641550   0.002285               0.340122   \n",
       "WBGene00021416   2.108622   0.009139               0.540394   \n",
       "\n",
       "                non_zeros_proportion2  raw_normalized_mean1  \\\n",
       "WBGene00000484               0.001523              1.902635   \n",
       "WBGene00019395               0.001523              2.337339   \n",
       "WBGene00022503               0.001523              7.736886   \n",
       "WBGene00000242               0.002285              4.354659   \n",
       "WBGene00021416               0.006855             14.367755   \n",
       "\n",
       "                raw_normalized_mean2  \n",
       "WBGene00000484              0.014351  \n",
       "WBGene00019395              0.011882  \n",
       "WBGene00022503              0.007626  \n",
       "WBGene00000242              0.018804  \n",
       "WBGene00021416              0.082081  "
      ]
     },
     "execution_count": 37,
     "metadata": {},
     "output_type": "execute_result"
    }
   ],
   "source": [
    "de_vanilla.head()"
   ]
  },
  {
   "cell_type": "markdown",
   "metadata": {
    "colab_type": "text",
    "id": "XBkigVBWHOlz"
   },
   "source": [
    "\n",
    "\n",
    "## Heatmap of top expressed genes for `vanilla` mode\n",
    "\n",
    "Now we perform DE between each cell type vs all other cells and make a heatmap of the result.\n",
    "\n",
    "First we need to make cell type sumary with numerical codes for each cell type"
   ]
  },
  {
   "cell_type": "code",
   "execution_count": 39,
   "metadata": {
    "colab": {
     "base_uri": "https://localhost:8080/",
     "height": 197
    },
    "colab_type": "code",
    "id": "jcdZtDLmHOl0",
    "outputId": "b3cebc51-fac9-48e5-cb38-1e9dd1a36896"
   },
   "outputs": [
    {
     "data": {
      "text/html": [
       "<div>\n",
       "<style scoped>\n",
       "    .dataframe tbody tr th:only-of-type {\n",
       "        vertical-align: middle;\n",
       "    }\n",
       "\n",
       "    .dataframe tbody tr th {\n",
       "        vertical-align: top;\n",
       "    }\n",
       "\n",
       "    .dataframe thead th {\n",
       "        text-align: right;\n",
       "    }\n",
       "</style>\n",
       "<table border=\"1\" class=\"dataframe\">\n",
       "  <thead>\n",
       "    <tr style=\"text-align: right;\">\n",
       "      <th></th>\n",
       "      <th>cell_type_code</th>\n",
       "      <th>ncells</th>\n",
       "      <th>cell_type_name</th>\n",
       "    </tr>\n",
       "  </thead>\n",
       "  <tbody>\n",
       "    <tr>\n",
       "      <th>nan</th>\n",
       "      <td>334</td>\n",
       "      <td>30326</td>\n",
       "      <td>nan</td>\n",
       "    </tr>\n",
       "    <tr>\n",
       "      <th>BWM_posterior</th>\n",
       "      <td>83</td>\n",
       "      <td>6825</td>\n",
       "      <td>BWM_posterior</td>\n",
       "    </tr>\n",
       "    <tr>\n",
       "      <th>VB</th>\n",
       "      <td>297</td>\n",
       "      <td>6706</td>\n",
       "      <td>VB</td>\n",
       "    </tr>\n",
       "    <tr>\n",
       "      <th>Coelomocyte</th>\n",
       "      <td>92</td>\n",
       "      <td>6606</td>\n",
       "      <td>Coelomocyte</td>\n",
       "    </tr>\n",
       "    <tr>\n",
       "      <th>BWM_anterior</th>\n",
       "      <td>76</td>\n",
       "      <td>6169</td>\n",
       "      <td>BWM_anterior</td>\n",
       "    </tr>\n",
       "  </tbody>\n",
       "</table>\n",
       "</div>"
      ],
      "text/plain": [
       "              cell_type_code  ncells cell_type_name\n",
       "nan                      334   30326            nan\n",
       "BWM_posterior             83    6825  BWM_posterior\n",
       "VB                       297    6706             VB\n",
       "Coelomocyte               92    6606    Coelomocyte\n",
       "BWM_anterior              76    6169   BWM_anterior"
      ]
     },
     "execution_count": 39,
     "metadata": {},
     "output_type": "execute_result"
    }
   ],
   "source": [
    "# we need to numerically encode the cell types for passing the cluster identity to scVI\n",
    "cell_code_to_type = dict( zip( adata.obs['cell_type'].cat.codes, adata.obs['cell_type'] ) )\n",
    "cell_type_to_code_map = dict([[v,k] for k,v in cell_code_to_type.items()])\n",
    "# check that we got unique cell type labels\n",
    "assert len(cell_code_to_type)==len(cell_type_to_code_map)\n",
    "\n",
    "cell_types_summary=pd.DataFrame(index=adata.obs['cell_type'].value_counts().index)\n",
    "cell_types_summary['cell_type_code']=cell_types_summary.index.map(cell_type_to_code_map)\n",
    "cell_types_summary['ncells']=adata.obs['cell_type'].value_counts()\n",
    "cell_types_summary['cell_type_name']=adata.obs['cell_type'].value_counts().index\n",
    "cell_types_summary.to_csv('packer_cell_types_summary.csv')\n",
    "cell_types_summary.head()"
   ]
  },
  {
   "cell_type": "code",
   "execution_count": null,
   "metadata": {},
   "outputs": [],
   "source": []
  },
  {
   "cell_type": "code",
   "execution_count": 41,
   "metadata": {
    "colab": {
     "base_uri": "https://localhost:8080/",
     "height": 1000,
     "referenced_widgets": [
      "9ceb8c890ff043bd88c7f39e844ec0d7",
      "99376197a512483abc17c0954095587f",
      "7f566e6d493d4330a5e9f28a54717d4c",
      "de97da96d17b4933bfab54ea08c8e75c",
      "689cda990e1a4c9bbb43b1e0b0219391",
      "f031646e7bf24b9ba1bf1df98659db82",
      "02c9ce129de04212920a3edf53b87115",
      "4983aedb60e94bf988fa9b7a2283752f"
     ]
    },
    "colab_type": "code",
    "id": "MdC-aZvbHOl3",
    "outputId": "77d313a2-311f-444a-d9ba-8930cc25e351",
    "scrolled": true
   },
   "outputs": [],
   "source": [
    "# create a column in the cell data with the cluster id each cell belongs to\n",
    "adata.obs['cell_type_code'] = adata.obs['cell_type'].cat.codes"
   ]
  },
  {
   "cell_type": "code",
   "execution_count": 42,
   "metadata": {},
   "outputs": [
    {
     "data": {
      "text/plain": [
       "array([328,  41, 333, ..., 266,  37, 297], dtype=int16)"
      ]
     },
     "execution_count": 42,
     "metadata": {},
     "output_type": "execute_result"
    }
   ],
   "source": [
    "adata.obs['cell_type_code'].ravel()"
   ]
  },
  {
   "cell_type": "code",
   "execution_count": 43,
   "metadata": {},
   "outputs": [
    {
     "data": {
      "text/html": [
       "<div>\n",
       "<style scoped>\n",
       "    .dataframe tbody tr th:only-of-type {\n",
       "        vertical-align: middle;\n",
       "    }\n",
       "\n",
       "    .dataframe tbody tr th {\n",
       "        vertical-align: top;\n",
       "    }\n",
       "\n",
       "    .dataframe thead th {\n",
       "        text-align: right;\n",
       "    }\n",
       "</style>\n",
       "<table border=\"1\" class=\"dataframe\">\n",
       "  <thead>\n",
       "    <tr style=\"text-align: right;\">\n",
       "      <th></th>\n",
       "      <th>cell_type_code</th>\n",
       "      <th>ncells</th>\n",
       "      <th>cell_type_name</th>\n",
       "    </tr>\n",
       "  </thead>\n",
       "  <tbody>\n",
       "    <tr>\n",
       "      <th>nan</th>\n",
       "      <td>334</td>\n",
       "      <td>30326</td>\n",
       "      <td>nan</td>\n",
       "    </tr>\n",
       "    <tr>\n",
       "      <th>BWM_posterior</th>\n",
       "      <td>83</td>\n",
       "      <td>6825</td>\n",
       "      <td>BWM_posterior</td>\n",
       "    </tr>\n",
       "    <tr>\n",
       "      <th>VB</th>\n",
       "      <td>297</td>\n",
       "      <td>6706</td>\n",
       "      <td>VB</td>\n",
       "    </tr>\n",
       "    <tr>\n",
       "      <th>Coelomocyte</th>\n",
       "      <td>92</td>\n",
       "      <td>6606</td>\n",
       "      <td>Coelomocyte</td>\n",
       "    </tr>\n",
       "    <tr>\n",
       "      <th>BWM_anterior</th>\n",
       "      <td>76</td>\n",
       "      <td>6169</td>\n",
       "      <td>BWM_anterior</td>\n",
       "    </tr>\n",
       "    <tr>\n",
       "      <th>Germline</th>\n",
       "      <td>115</td>\n",
       "      <td>6159</td>\n",
       "      <td>Germline</td>\n",
       "    </tr>\n",
       "    <tr>\n",
       "      <th>BWM_middle_and_posterior</th>\n",
       "      <td>81</td>\n",
       "      <td>3331</td>\n",
       "      <td>BWM_middle_and_posterior</td>\n",
       "    </tr>\n",
       "    <tr>\n",
       "      <th>Body_wall_muscle</th>\n",
       "      <td>85</td>\n",
       "      <td>3091</td>\n",
       "      <td>Body_wall_muscle</td>\n",
       "    </tr>\n",
       "    <tr>\n",
       "      <th>Epidermis</th>\n",
       "      <td>104</td>\n",
       "      <td>2888</td>\n",
       "      <td>Epidermis</td>\n",
       "    </tr>\n",
       "    <tr>\n",
       "      <th>Seam_cell</th>\n",
       "      <td>271</td>\n",
       "      <td>2766</td>\n",
       "      <td>Seam_cell</td>\n",
       "    </tr>\n",
       "    <tr>\n",
       "      <th>CAN</th>\n",
       "      <td>86</td>\n",
       "      <td>2432</td>\n",
       "      <td>CAN</td>\n",
       "    </tr>\n",
       "    <tr>\n",
       "      <th>BWM_head_row_1</th>\n",
       "      <td>79</td>\n",
       "      <td>2384</td>\n",
       "      <td>BWM_head_row_1</td>\n",
       "    </tr>\n",
       "    <tr>\n",
       "      <th>Hypodermis</th>\n",
       "      <td>119</td>\n",
       "      <td>2288</td>\n",
       "      <td>Hypodermis</td>\n",
       "    </tr>\n",
       "    <tr>\n",
       "      <th>BWM_head_row_2</th>\n",
       "      <td>80</td>\n",
       "      <td>2106</td>\n",
       "      <td>BWM_head_row_2</td>\n",
       "    </tr>\n",
       "    <tr>\n",
       "      <th>RIA</th>\n",
       "      <td>229</td>\n",
       "      <td>2067</td>\n",
       "      <td>RIA</td>\n",
       "    </tr>\n",
       "    <tr>\n",
       "      <th>SIA</th>\n",
       "      <td>263</td>\n",
       "      <td>2022</td>\n",
       "      <td>SIA</td>\n",
       "    </tr>\n",
       "    <tr>\n",
       "      <th>DB</th>\n",
       "      <td>95</td>\n",
       "      <td>1980</td>\n",
       "      <td>DB</td>\n",
       "    </tr>\n",
       "    <tr>\n",
       "      <th>pm3_pm4_pm5</th>\n",
       "      <td>336</td>\n",
       "      <td>1925</td>\n",
       "      <td>pm3_pm4_pm5</td>\n",
       "    </tr>\n",
       "    <tr>\n",
       "      <th>hyp7_C_lineage</th>\n",
       "      <td>325</td>\n",
       "      <td>1774</td>\n",
       "      <td>hyp7_C_lineage</td>\n",
       "    </tr>\n",
       "    <tr>\n",
       "      <th>ASG</th>\n",
       "      <td>37</td>\n",
       "      <td>1582</td>\n",
       "      <td>ASG</td>\n",
       "    </tr>\n",
       "    <tr>\n",
       "      <th>AVK</th>\n",
       "      <td>59</td>\n",
       "      <td>1534</td>\n",
       "      <td>AVK</td>\n",
       "    </tr>\n",
       "    <tr>\n",
       "      <th>ADL</th>\n",
       "      <td>8</td>\n",
       "      <td>1473</td>\n",
       "      <td>ADL</td>\n",
       "    </tr>\n",
       "    <tr>\n",
       "      <th>Ciliated_non_amphid_neuron</th>\n",
       "      <td>91</td>\n",
       "      <td>1469</td>\n",
       "      <td>Ciliated_non_amphid_neuron</td>\n",
       "    </tr>\n",
       "    <tr>\n",
       "      <th>AIB</th>\n",
       "      <td>12</td>\n",
       "      <td>1313</td>\n",
       "      <td>AIB</td>\n",
       "    </tr>\n",
       "    <tr>\n",
       "      <th>Intestine</th>\n",
       "      <td>136</td>\n",
       "      <td>1217</td>\n",
       "      <td>Intestine</td>\n",
       "    </tr>\n",
       "    <tr>\n",
       "      <th>BWM_far_posterior</th>\n",
       "      <td>77</td>\n",
       "      <td>1197</td>\n",
       "      <td>BWM_far_posterior</td>\n",
       "    </tr>\n",
       "    <tr>\n",
       "      <th>VC_1-3;6</th>\n",
       "      <td>298</td>\n",
       "      <td>1172</td>\n",
       "      <td>VC_1-3;6</td>\n",
       "    </tr>\n",
       "    <tr>\n",
       "      <th>VA_SAB</th>\n",
       "      <td>296</td>\n",
       "      <td>1152</td>\n",
       "      <td>VA_SAB</td>\n",
       "    </tr>\n",
       "    <tr>\n",
       "      <th>ASJ</th>\n",
       "      <td>43</td>\n",
       "      <td>1134</td>\n",
       "      <td>ASJ</td>\n",
       "    </tr>\n",
       "    <tr>\n",
       "      <th>BWM_neck</th>\n",
       "      <td>82</td>\n",
       "      <td>1130</td>\n",
       "      <td>BWM_neck</td>\n",
       "    </tr>\n",
       "  </tbody>\n",
       "</table>\n",
       "</div>"
      ],
      "text/plain": [
       "                           cell_type_code  ncells              cell_type_name\n",
       "nan                                   334   30326                         nan\n",
       "BWM_posterior                          83    6825               BWM_posterior\n",
       "VB                                    297    6706                          VB\n",
       "Coelomocyte                            92    6606                 Coelomocyte\n",
       "BWM_anterior                           76    6169                BWM_anterior\n",
       "Germline                              115    6159                    Germline\n",
       "BWM_middle_and_posterior               81    3331    BWM_middle_and_posterior\n",
       "Body_wall_muscle                       85    3091            Body_wall_muscle\n",
       "Epidermis                             104    2888                   Epidermis\n",
       "Seam_cell                             271    2766                   Seam_cell\n",
       "CAN                                    86    2432                         CAN\n",
       "BWM_head_row_1                         79    2384              BWM_head_row_1\n",
       "Hypodermis                            119    2288                  Hypodermis\n",
       "BWM_head_row_2                         80    2106              BWM_head_row_2\n",
       "RIA                                   229    2067                         RIA\n",
       "SIA                                   263    2022                         SIA\n",
       "DB                                     95    1980                          DB\n",
       "pm3_pm4_pm5                           336    1925                 pm3_pm4_pm5\n",
       "hyp7_C_lineage                        325    1774              hyp7_C_lineage\n",
       "ASG                                    37    1582                         ASG\n",
       "AVK                                    59    1534                         AVK\n",
       "ADL                                     8    1473                         ADL\n",
       "Ciliated_non_amphid_neuron             91    1469  Ciliated_non_amphid_neuron\n",
       "AIB                                    12    1313                         AIB\n",
       "Intestine                             136    1217                   Intestine\n",
       "BWM_far_posterior                      77    1197           BWM_far_posterior\n",
       "VC_1-3;6                              298    1172                    VC_1-3;6\n",
       "VA_SAB                                296    1152                      VA_SAB\n",
       "ASJ                                    43    1134                         ASJ\n",
       "BWM_neck                               82    1130                    BWM_neck"
      ]
     },
     "execution_count": 43,
     "metadata": {},
     "output_type": "execute_result"
    }
   ],
   "source": [
    "cell_types_summary.head(30)"
   ]
  },
  {
   "cell_type": "code",
   "execution_count": 44,
   "metadata": {},
   "outputs": [
    {
     "data": {
      "text/plain": [
       "array([328,  41, 333, ..., 266,  37, 297], dtype=int16)"
      ]
     },
     "execution_count": 44,
     "metadata": {},
     "output_type": "execute_result"
    }
   ],
   "source": [
    "adata.obs['cell_type_code'].ravel()"
   ]
  },
  {
   "cell_type": "code",
   "execution_count": null,
   "metadata": {},
   "outputs": [],
   "source": []
  },
  {
   "cell_type": "code",
   "execution_count": 50,
   "metadata": {},
   "outputs": [
    {
     "data": {
      "text/plain": [
       "0-cao           False\n",
       "1-cao           False\n",
       "2-cao           False\n",
       "3-cao           False\n",
       "4-cao           False\n",
       "                ...  \n",
       "65445-taylor    False\n",
       "65446-taylor    False\n",
       "65447-taylor    False\n",
       "65448-taylor     True\n",
       "65449-taylor    False\n",
       "Name: cell_type_code, Length: 191138, dtype: bool"
      ]
     },
     "execution_count": 50,
     "metadata": {},
     "output_type": "execute_result"
    }
   ],
   "source": [
    "# lets select ASG cells which have code 37\n",
    "chosen_cells_mask = adata.obs['cell_type_code']==37\n",
    "chosen_cells_mask"
   ]
  },
  {
   "cell_type": "code",
   "execution_count": 59,
   "metadata": {},
   "outputs": [
    {
     "data": {
      "text/plain": [
       "191138"
      ]
     },
     "execution_count": 59,
     "metadata": {},
     "output_type": "execute_result"
    }
   ],
   "source": [
    "len(chosen_cells_mask.values)"
   ]
  },
  {
   "cell_type": "code",
   "execution_count": 60,
   "metadata": {},
   "outputs": [
    {
     "data": {
      "text/plain": [
       "191138"
      ]
     },
     "execution_count": 60,
     "metadata": {},
     "output_type": "execute_result"
    }
   ],
   "source": [
    "len(gene_dataset)"
   ]
  },
  {
   "cell_type": "code",
   "execution_count": null,
   "metadata": {},
   "outputs": [],
   "source": []
  },
  {
   "cell_type": "code",
   "execution_count": 65,
   "metadata": {
    "colab": {
     "base_uri": "https://localhost:8080/",
     "height": 1000,
     "referenced_widgets": [
      "9ceb8c890ff043bd88c7f39e844ec0d7",
      "99376197a512483abc17c0954095587f",
      "7f566e6d493d4330a5e9f28a54717d4c",
      "de97da96d17b4933bfab54ea08c8e75c",
      "689cda990e1a4c9bbb43b1e0b0219391",
      "f031646e7bf24b9ba1bf1df98659db82",
      "02c9ce129de04212920a3edf53b87115",
      "4983aedb60e94bf988fa9b7a2283752f"
     ]
    },
    "colab_type": "code",
    "id": "MdC-aZvbHOl3",
    "outputId": "77d313a2-311f-444a-d9ba-8930cc25e351",
    "scrolled": true
   },
   "outputs": [
    {
     "data": {
      "application/vnd.jupyter.widget-view+json": {
       "model_id": "f5cae1ab0eb94fe78ff4e1460a0a154f",
       "version_major": 2,
       "version_minor": 0
      },
      "text/plain": [
       "HBox(children=(IntProgress(value=0, max=342), HTML(value='')))"
      ]
     },
     "metadata": {},
     "output_type": "display_data"
    },
    {
     "name": "stdout",
     "output_type": "stream",
     "text": [
      "\n"
     ]
    }
   ],
   "source": [
    "# this returns a list of dataframes with DE results (one for each cluster),\n",
    "# and a list with the corresponding cluster id\n",
    "vanilla_per_cluster_de, vanilla_cluster_id = full.one_vs_all_degenes(\n",
    "#     subset=chosen_cells_mask.values,\n",
    "    cell_labels=adata.obs['cell_type_code'].ravel(), \n",
    "    mode = 'vanilla', # vanilla is the default mode\n",
    "    min_cells=100)"
   ]
  },
  {
   "cell_type": "code",
   "execution_count": 69,
   "metadata": {},
   "outputs": [
    {
     "data": {
      "text/plain": [
       "list"
      ]
     },
     "execution_count": 69,
     "metadata": {},
     "output_type": "execute_result"
    }
   ],
   "source": [
    "type(vanilla_per_cluster_de)"
   ]
  },
  {
   "cell_type": "code",
   "execution_count": 70,
   "metadata": {},
   "outputs": [
    {
     "data": {
      "text/plain": [
       "243"
      ]
     },
     "execution_count": 70,
     "metadata": {},
     "output_type": "execute_result"
    }
   ],
   "source": [
    "len(vanilla_per_cluster_de)"
   ]
  },
  {
   "cell_type": "markdown",
   "metadata": {},
   "source": [
    "# DE results for chosen cluster"
   ]
  },
  {
   "cell_type": "code",
   "execution_count": 72,
   "metadata": {},
   "outputs": [
    {
     "data": {
      "text/html": [
       "<div>\n",
       "<style scoped>\n",
       "    .dataframe tbody tr th:only-of-type {\n",
       "        vertical-align: middle;\n",
       "    }\n",
       "\n",
       "    .dataframe tbody tr th {\n",
       "        vertical-align: top;\n",
       "    }\n",
       "\n",
       "    .dataframe thead th {\n",
       "        text-align: right;\n",
       "    }\n",
       "</style>\n",
       "<table border=\"1\" class=\"dataframe\">\n",
       "  <thead>\n",
       "    <tr style=\"text-align: right;\">\n",
       "      <th></th>\n",
       "      <th>proba_m1</th>\n",
       "      <th>proba_m2</th>\n",
       "      <th>bayes_factor</th>\n",
       "      <th>scale1</th>\n",
       "      <th>scale2</th>\n",
       "      <th>raw_mean1</th>\n",
       "      <th>raw_mean2</th>\n",
       "      <th>non_zeros_proportion1</th>\n",
       "      <th>non_zeros_proportion2</th>\n",
       "      <th>raw_normalized_mean1</th>\n",
       "      <th>raw_normalized_mean2</th>\n",
       "      <th>clusters</th>\n",
       "    </tr>\n",
       "  </thead>\n",
       "  <tbody>\n",
       "    <tr>\n",
       "      <th>WBGene00001451</th>\n",
       "      <td>0.919368</td>\n",
       "      <td>0.080632</td>\n",
       "      <td>2.433787</td>\n",
       "      <td>0.006313</td>\n",
       "      <td>0.000905</td>\n",
       "      <td>64.196571</td>\n",
       "      <td>0.791975</td>\n",
       "      <td>0.751724</td>\n",
       "      <td>0.024685</td>\n",
       "      <td>641.700745</td>\n",
       "      <td>3.819703</td>\n",
       "      <td>47</td>\n",
       "    </tr>\n",
       "    <tr>\n",
       "      <th>WBGene00018298</th>\n",
       "      <td>0.914166</td>\n",
       "      <td>0.085834</td>\n",
       "      <td>2.365593</td>\n",
       "      <td>0.004677</td>\n",
       "      <td>0.000822</td>\n",
       "      <td>0.251724</td>\n",
       "      <td>0.955699</td>\n",
       "      <td>0.067241</td>\n",
       "      <td>0.077462</td>\n",
       "      <td>1.789379</td>\n",
       "      <td>7.298349</td>\n",
       "      <td>47</td>\n",
       "    </tr>\n",
       "    <tr>\n",
       "      <th>WBGene00018774</th>\n",
       "      <td>0.911765</td>\n",
       "      <td>0.088235</td>\n",
       "      <td>2.335375</td>\n",
       "      <td>0.001024</td>\n",
       "      <td>0.000249</td>\n",
       "      <td>0.015517</td>\n",
       "      <td>0.012479</td>\n",
       "      <td>0.015517</td>\n",
       "      <td>0.005657</td>\n",
       "      <td>0.177101</td>\n",
       "      <td>0.091942</td>\n",
       "      <td>47</td>\n",
       "    </tr>\n",
       "    <tr>\n",
       "      <th>WBGene00021116</th>\n",
       "      <td>0.907363</td>\n",
       "      <td>0.092637</td>\n",
       "      <td>2.281853</td>\n",
       "      <td>0.000175</td>\n",
       "      <td>0.000056</td>\n",
       "      <td>0.008621</td>\n",
       "      <td>0.016478</td>\n",
       "      <td>0.008621</td>\n",
       "      <td>0.013649</td>\n",
       "      <td>0.088533</td>\n",
       "      <td>0.161235</td>\n",
       "      <td>47</td>\n",
       "    </tr>\n",
       "    <tr>\n",
       "      <th>WBGene00045336</th>\n",
       "      <td>0.907163</td>\n",
       "      <td>0.092837</td>\n",
       "      <td>2.279475</td>\n",
       "      <td>0.001813</td>\n",
       "      <td>0.000476</td>\n",
       "      <td>0.025862</td>\n",
       "      <td>0.108974</td>\n",
       "      <td>0.008621</td>\n",
       "      <td>0.018278</td>\n",
       "      <td>0.273217</td>\n",
       "      <td>1.333389</td>\n",
       "      <td>47</td>\n",
       "    </tr>\n",
       "    <tr>\n",
       "      <th>...</th>\n",
       "      <td>...</td>\n",
       "      <td>...</td>\n",
       "      <td>...</td>\n",
       "      <td>...</td>\n",
       "      <td>...</td>\n",
       "      <td>...</td>\n",
       "      <td>...</td>\n",
       "      <td>...</td>\n",
       "      <td>...</td>\n",
       "      <td>...</td>\n",
       "      <td>...</td>\n",
       "      <td>...</td>\n",
       "    </tr>\n",
       "    <tr>\n",
       "      <th>WBGene00004795</th>\n",
       "      <td>0.158663</td>\n",
       "      <td>0.841337</td>\n",
       "      <td>-1.668206</td>\n",
       "      <td>0.000009</td>\n",
       "      <td>0.000022</td>\n",
       "      <td>0.000000</td>\n",
       "      <td>0.018147</td>\n",
       "      <td>0.000000</td>\n",
       "      <td>0.014489</td>\n",
       "      <td>0.000000</td>\n",
       "      <td>0.077716</td>\n",
       "      <td>47</td>\n",
       "    </tr>\n",
       "    <tr>\n",
       "      <th>WBGene00006876</th>\n",
       "      <td>0.154862</td>\n",
       "      <td>0.845138</td>\n",
       "      <td>-1.696966</td>\n",
       "      <td>0.000058</td>\n",
       "      <td>0.000161</td>\n",
       "      <td>0.017241</td>\n",
       "      <td>0.370496</td>\n",
       "      <td>0.015517</td>\n",
       "      <td>0.148564</td>\n",
       "      <td>0.136002</td>\n",
       "      <td>2.223302</td>\n",
       "      <td>47</td>\n",
       "    </tr>\n",
       "    <tr>\n",
       "      <th>WBGene00007047</th>\n",
       "      <td>0.152861</td>\n",
       "      <td>0.847139</td>\n",
       "      <td>-1.712335</td>\n",
       "      <td>0.000035</td>\n",
       "      <td>0.000075</td>\n",
       "      <td>0.010345</td>\n",
       "      <td>0.131385</td>\n",
       "      <td>0.010345</td>\n",
       "      <td>0.092728</td>\n",
       "      <td>0.101900</td>\n",
       "      <td>0.555494</td>\n",
       "      <td>47</td>\n",
       "    </tr>\n",
       "    <tr>\n",
       "      <th>WBGene00016422</th>\n",
       "      <td>0.152261</td>\n",
       "      <td>0.847739</td>\n",
       "      <td>-1.716977</td>\n",
       "      <td>0.000027</td>\n",
       "      <td>0.000293</td>\n",
       "      <td>0.013793</td>\n",
       "      <td>1.112879</td>\n",
       "      <td>0.012069</td>\n",
       "      <td>0.106477</td>\n",
       "      <td>0.116629</td>\n",
       "      <td>3.803466</td>\n",
       "      <td>47</td>\n",
       "    </tr>\n",
       "    <tr>\n",
       "      <th>WBGene00001744</th>\n",
       "      <td>0.147259</td>\n",
       "      <td>0.852741</td>\n",
       "      <td>-1.756264</td>\n",
       "      <td>0.000036</td>\n",
       "      <td>0.000095</td>\n",
       "      <td>0.032759</td>\n",
       "      <td>0.115381</td>\n",
       "      <td>0.029310</td>\n",
       "      <td>0.080280</td>\n",
       "      <td>0.244448</td>\n",
       "      <td>0.571901</td>\n",
       "      <td>47</td>\n",
       "    </tr>\n",
       "  </tbody>\n",
       "</table>\n",
       "<p>7400 rows × 12 columns</p>\n",
       "</div>"
      ],
      "text/plain": [
       "                proba_m1  proba_m2  bayes_factor    scale1    scale2  \\\n",
       "WBGene00001451  0.919368  0.080632      2.433787  0.006313  0.000905   \n",
       "WBGene00018298  0.914166  0.085834      2.365593  0.004677  0.000822   \n",
       "WBGene00018774  0.911765  0.088235      2.335375  0.001024  0.000249   \n",
       "WBGene00021116  0.907363  0.092637      2.281853  0.000175  0.000056   \n",
       "WBGene00045336  0.907163  0.092837      2.279475  0.001813  0.000476   \n",
       "...                  ...       ...           ...       ...       ...   \n",
       "WBGene00004795  0.158663  0.841337     -1.668206  0.000009  0.000022   \n",
       "WBGene00006876  0.154862  0.845138     -1.696966  0.000058  0.000161   \n",
       "WBGene00007047  0.152861  0.847139     -1.712335  0.000035  0.000075   \n",
       "WBGene00016422  0.152261  0.847739     -1.716977  0.000027  0.000293   \n",
       "WBGene00001744  0.147259  0.852741     -1.756264  0.000036  0.000095   \n",
       "\n",
       "                raw_mean1  raw_mean2  non_zeros_proportion1  \\\n",
       "WBGene00001451  64.196571   0.791975               0.751724   \n",
       "WBGene00018298   0.251724   0.955699               0.067241   \n",
       "WBGene00018774   0.015517   0.012479               0.015517   \n",
       "WBGene00021116   0.008621   0.016478               0.008621   \n",
       "WBGene00045336   0.025862   0.108974               0.008621   \n",
       "...                   ...        ...                    ...   \n",
       "WBGene00004795   0.000000   0.018147               0.000000   \n",
       "WBGene00006876   0.017241   0.370496               0.015517   \n",
       "WBGene00007047   0.010345   0.131385               0.010345   \n",
       "WBGene00016422   0.013793   1.112879               0.012069   \n",
       "WBGene00001744   0.032759   0.115381               0.029310   \n",
       "\n",
       "                non_zeros_proportion2  raw_normalized_mean1  \\\n",
       "WBGene00001451               0.024685            641.700745   \n",
       "WBGene00018298               0.077462              1.789379   \n",
       "WBGene00018774               0.005657              0.177101   \n",
       "WBGene00021116               0.013649              0.088533   \n",
       "WBGene00045336               0.018278              0.273217   \n",
       "...                               ...                   ...   \n",
       "WBGene00004795               0.014489              0.000000   \n",
       "WBGene00006876               0.148564              0.136002   \n",
       "WBGene00007047               0.092728              0.101900   \n",
       "WBGene00016422               0.106477              0.116629   \n",
       "WBGene00001744               0.080280              0.244448   \n",
       "\n",
       "                raw_normalized_mean2  clusters  \n",
       "WBGene00001451              3.819703        47  \n",
       "WBGene00018298              7.298349        47  \n",
       "WBGene00018774              0.091942        47  \n",
       "WBGene00021116              0.161235        47  \n",
       "WBGene00045336              1.333389        47  \n",
       "...                              ...       ...  \n",
       "WBGene00004795              0.077716        47  \n",
       "WBGene00006876              2.223302        47  \n",
       "WBGene00007047              0.555494        47  \n",
       "WBGene00016422              3.803466        47  \n",
       "WBGene00001744              0.571901        47  \n",
       "\n",
       "[7400 rows x 12 columns]"
      ]
     },
     "execution_count": 72,
     "metadata": {},
     "output_type": "execute_result"
    }
   ],
   "source": [
    "vanilla_per_cluster_de[37]"
   ]
  },
  {
   "cell_type": "markdown",
   "metadata": {
    "colab_type": "text",
    "id": "yoaCvwACHOmT"
   },
   "source": [
    "\n",
    "\n",
    "## Code for making interactive heatmap (needs to be changed a bit)\n"
   ]
  },
  {
   "cell_type": "raw",
   "metadata": {
    "colab": {},
    "colab_type": "code",
    "id": "wqVtezT4HOl5"
   },
   "source": [
    "# pick the top 10 genes in each cluster\n",
    "vanilla_top_genes = []\n",
    "for x in vanilla_per_cluster_de:\n",
    "    vanilla_top_genes.append(x[:10])\n",
    "vanilla_top_genes = pd.concat(vanilla_top_genes)\n",
    "vanilla_top_genes = np.unique(vanilla_top_genes.index)"
   ]
  },
  {
   "cell_type": "raw",
   "metadata": {
    "colab": {
     "base_uri": "https://localhost:8080/",
     "height": 197
    },
    "colab_type": "code",
    "id": "n8DnjTLOHOmN",
    "outputId": "127c8e4b-8466-48ea-a196-fca36a7be41d"
   },
   "source": [
    "# fetch the expression values for the top 10 genes\n",
    "vanilla_top_expression = [x.filter(items=vanilla_top_genes, axis=0)['scale1'] for x in vanilla_per_cluster_de]\n",
    "vanilla_top_expression = pd.concat(vanilla_top_expression, axis=1)\n",
    "vanilla_top_expression = np.log10(1 + vanilla_top_expression)\n",
    "cluster_name = [cell_code_to_type[_id] for _id in vanilla_cluster_id]\n",
    "vanilla_top_expression.columns=cluster_name\n",
    "\n",
    "# convert into anndata object to tie with more metadata, such as gene names and descriptions\n",
    "vanilla_top_expression = anndata.AnnData(vanilla_top_expression.T)\n",
    "vanilla_top_expression.obs = vanilla_top_expression.obs.join(cell_types_summary)\n",
    "vanilla_top_expression.obs.head()"
   ]
  },
  {
   "cell_type": "raw",
   "metadata": {
    "colab": {
     "base_uri": "https://localhost:8080/",
     "height": 342
    },
    "colab_type": "code",
    "id": "Ut4yZFaEHOmQ",
    "outputId": "3509074d-74cf-438d-8429-3cacfd4d5bf3"
   },
   "source": [
    "#make a copy of the annotated gene metadata with gene ids all lower case to avoid problems when joining dataframes\n",
    "adata_var_lowcase = adata.var.copy()\n",
    "adata_var_lowcase.index = adata_var_lowcase.index.str.lower()\n",
    "\n",
    "#convert top_expression gene ids index to lowercase for joining with metadata\n",
    "vanilla_top_expression.var.index = vanilla_top_expression.var.index.str.lower()\n",
    "vanilla_top_expression.var=vanilla_top_expression.var.join(adata_var_lowcase)\n",
    "\n",
    "vanilla_top_expression.var.index=vanilla_top_expression.var['gene_id']\n",
    "vanilla_top_expression.var.head().style.set_properties(subset=['gene_description'], **{'width': '600px'})"
   ]
  },
  {
   "cell_type": "raw",
   "metadata": {
    "colab": {
     "base_uri": "https://localhost:8080/",
     "height": 816
    },
    "colab_type": "code",
    "id": "7tPZSg9Ve2zR",
    "outputId": "1eee2740-6be3-4e33-ebb8-572f4f44c072"
   },
   "source": [
    "# first we create these variables to customize the hover text in plotly's heatmap\n",
    "# the text needs to be arranged in a matrix the same shape as the heatmap\n",
    "# for the gene descriptions text, which can be several sentences, we add a line break after each sentence\n",
    "vanilla_top_expression.var['gene_description_html'] = vanilla_top_expression.var['gene_description'].str.replace('\\. ', '.<br>')\n",
    "gene_description_text_matrix = np.tile(vanilla_top_expression.var['gene_description_html'].values, (len(vanilla_top_expression.obs['cell_type_name']),1) )\n",
    "gene_ids_text_matrix = np.tile(vanilla_top_expression.var['gene_id'].values, (len(vanilla_top_expression.obs['cell_type_name']),1))\n",
    "\n",
    "\n",
    "# now create the heatmap with plotly\n",
    "fig = go.Figure(\n",
    "                data=go.Heatmap(\n",
    "                        z=np.log(vanilla_top_expression.X * 10000), # multiply by 10000 to interpret this as ln(CP10K) scale\n",
    "                        x=vanilla_top_expression.var['gene_name'],\n",
    "                        y=vanilla_top_expression.obs['cell_type_name'],\n",
    "                        hoverinfo='text',\n",
    "                        text=gene_description_text_matrix,\n",
    "                        customdata=gene_ids_text_matrix,\n",
    "                        hovertemplate='%{customdata} <br>Name: %{x}<br>Cell type: %{y}<br>ln(CP10K) %{z}  <extra>%{text}</extra>',\n",
    "                        ),\n",
    "                    layout= {\n",
    "                        \"title\": {\"text\": \"Vanilla differential expression of Packer C. elegans single cell data\"},\n",
    "                        \"height\": 800,\n",
    "                        },\n",
    "               )\n",
    "\n",
    "# uncomment line below to save the interactive volcano plot as html\n",
    "# fig.write_html('worms_interactive_heatmap_vanilla_DE.html')\n",
    "fig.show()"
   ]
  },
  {
   "cell_type": "raw",
   "metadata": {
    "colab": {},
    "colab_type": "code",
    "id": "U6GvPNvqHOm7"
   },
   "source": [
    "fig.write_html('worms_interactive_heatmap_vanilla_DE.html')\n"
   ]
  },
  {
   "cell_type": "code",
   "execution_count": null,
   "metadata": {},
   "outputs": [],
   "source": []
  },
  {
   "cell_type": "code",
   "execution_count": null,
   "metadata": {},
   "outputs": [],
   "source": []
  }
 ],
 "metadata": {
  "accelerator": "GPU",
  "colab": {
   "include_colab_link": true,
   "machine_shape": "hm",
   "name": "scVI_DE_worm_v5.ipynb",
   "provenance": [],
   "toc_visible": true
  },
  "kernelspec": {
   "display_name": "Python 3",
   "language": "python",
   "name": "python3"
  },
  "language_info": {
   "codemirror_mode": {
    "name": "ipython",
    "version": 3
   },
   "file_extension": ".py",
   "mimetype": "text/x-python",
   "name": "python",
   "nbconvert_exporter": "python",
   "pygments_lexer": "ipython3",
   "version": "3.7.4"
  },
  "pycharm": {
   "stem_cell": {
    "cell_type": "raw",
    "metadata": {
     "collapsed": false
    },
    "source": []
   }
  },
  "toc": {
   "base_numbering": 1,
   "nav_menu": {},
   "number_sections": true,
   "sideBar": true,
   "skip_h1_title": false,
   "title_cell": "Table of Contents",
   "title_sidebar": "Contents",
   "toc_cell": false,
   "toc_position": {},
   "toc_section_display": true,
   "toc_window_display": false
  },
  "widgets": {
   "application/vnd.jupyter.widget-state+json": {
    "01fea2bb73a546b79106c51b538bfa1d": {
     "model_module": "@jupyter-widgets/base",
     "model_name": "LayoutModel",
     "state": {
      "_model_module": "@jupyter-widgets/base",
      "_model_module_version": "1.2.0",
      "_model_name": "LayoutModel",
      "_view_count": null,
      "_view_module": "@jupyter-widgets/base",
      "_view_module_version": "1.2.0",
      "_view_name": "LayoutView",
      "align_content": null,
      "align_items": null,
      "align_self": null,
      "border": null,
      "bottom": null,
      "display": null,
      "flex": null,
      "flex_flow": null,
      "grid_area": null,
      "grid_auto_columns": null,
      "grid_auto_flow": null,
      "grid_auto_rows": null,
      "grid_column": null,
      "grid_gap": null,
      "grid_row": null,
      "grid_template_areas": null,
      "grid_template_columns": null,
      "grid_template_rows": null,
      "height": null,
      "justify_content": null,
      "justify_items": null,
      "left": null,
      "margin": null,
      "max_height": null,
      "max_width": null,
      "min_height": null,
      "min_width": null,
      "object_fit": null,
      "object_position": null,
      "order": null,
      "overflow": null,
      "overflow_x": null,
      "overflow_y": null,
      "padding": null,
      "right": null,
      "top": null,
      "visibility": null,
      "width": null
     }
    },
    "02c9ce129de04212920a3edf53b87115": {
     "model_module": "@jupyter-widgets/controls",
     "model_name": "DescriptionStyleModel",
     "state": {
      "_model_module": "@jupyter-widgets/controls",
      "_model_module_version": "1.5.0",
      "_model_name": "DescriptionStyleModel",
      "_view_count": null,
      "_view_module": "@jupyter-widgets/base",
      "_view_module_version": "1.2.0",
      "_view_name": "StyleView",
      "description_width": ""
     }
    },
    "3d1d2e4ac5f641f393cf0011f164bdc7": {
     "model_module": "@jupyter-widgets/controls",
     "model_name": "ProgressStyleModel",
     "state": {
      "_model_module": "@jupyter-widgets/controls",
      "_model_module_version": "1.5.0",
      "_model_name": "ProgressStyleModel",
      "_view_count": null,
      "_view_module": "@jupyter-widgets/base",
      "_view_module_version": "1.2.0",
      "_view_name": "StyleView",
      "bar_color": null,
      "description_width": "initial"
     }
    },
    "4983aedb60e94bf988fa9b7a2283752f": {
     "model_module": "@jupyter-widgets/base",
     "model_name": "LayoutModel",
     "state": {
      "_model_module": "@jupyter-widgets/base",
      "_model_module_version": "1.2.0",
      "_model_name": "LayoutModel",
      "_view_count": null,
      "_view_module": "@jupyter-widgets/base",
      "_view_module_version": "1.2.0",
      "_view_name": "LayoutView",
      "align_content": null,
      "align_items": null,
      "align_self": null,
      "border": null,
      "bottom": null,
      "display": null,
      "flex": null,
      "flex_flow": null,
      "grid_area": null,
      "grid_auto_columns": null,
      "grid_auto_flow": null,
      "grid_auto_rows": null,
      "grid_column": null,
      "grid_gap": null,
      "grid_row": null,
      "grid_template_areas": null,
      "grid_template_columns": null,
      "grid_template_rows": null,
      "height": null,
      "justify_content": null,
      "justify_items": null,
      "left": null,
      "margin": null,
      "max_height": null,
      "max_width": null,
      "min_height": null,
      "min_width": null,
      "object_fit": null,
      "object_position": null,
      "order": null,
      "overflow": null,
      "overflow_x": null,
      "overflow_y": null,
      "padding": null,
      "right": null,
      "top": null,
      "visibility": null,
      "width": null
     }
    },
    "689cda990e1a4c9bbb43b1e0b0219391": {
     "model_module": "@jupyter-widgets/controls",
     "model_name": "ProgressStyleModel",
     "state": {
      "_model_module": "@jupyter-widgets/controls",
      "_model_module_version": "1.5.0",
      "_model_name": "ProgressStyleModel",
      "_view_count": null,
      "_view_module": "@jupyter-widgets/base",
      "_view_module_version": "1.2.0",
      "_view_name": "StyleView",
      "bar_color": null,
      "description_width": "initial"
     }
    },
    "7757b3270c08413db33047bdb04da9dd": {
     "model_module": "@jupyter-widgets/controls",
     "model_name": "DescriptionStyleModel",
     "state": {
      "_model_module": "@jupyter-widgets/controls",
      "_model_module_version": "1.5.0",
      "_model_name": "DescriptionStyleModel",
      "_view_count": null,
      "_view_module": "@jupyter-widgets/base",
      "_view_module_version": "1.2.0",
      "_view_name": "StyleView",
      "description_width": ""
     }
    },
    "7f566e6d493d4330a5e9f28a54717d4c": {
     "model_module": "@jupyter-widgets/controls",
     "model_name": "IntProgressModel",
     "state": {
      "_dom_classes": [],
      "_model_module": "@jupyter-widgets/controls",
      "_model_module_version": "1.5.0",
      "_model_name": "IntProgressModel",
      "_view_count": null,
      "_view_module": "@jupyter-widgets/controls",
      "_view_module_version": "1.5.0",
      "_view_name": "ProgressView",
      "bar_style": "success",
      "description": "100%",
      "description_tooltip": null,
      "layout": "IPY_MODEL_f031646e7bf24b9ba1bf1df98659db82",
      "max": 37,
      "min": 0,
      "orientation": "horizontal",
      "style": "IPY_MODEL_689cda990e1a4c9bbb43b1e0b0219391",
      "value": 37
     }
    },
    "88d98cb26d5146cd8f7c8f420cdd2310": {
     "model_module": "@jupyter-widgets/controls",
     "model_name": "HTMLModel",
     "state": {
      "_dom_classes": [],
      "_model_module": "@jupyter-widgets/controls",
      "_model_module_version": "1.5.0",
      "_model_name": "HTMLModel",
      "_view_count": null,
      "_view_module": "@jupyter-widgets/controls",
      "_view_module_version": "1.5.0",
      "_view_name": "HTMLView",
      "description": "",
      "description_tooltip": null,
      "layout": "IPY_MODEL_c294ddd7474843ceb0eeca6fec3a56ae",
      "placeholder": "​",
      "style": "IPY_MODEL_7757b3270c08413db33047bdb04da9dd",
      "value": " 37/37 [03:25&lt;00:00,  5.55s/it]"
     }
    },
    "99376197a512483abc17c0954095587f": {
     "model_module": "@jupyter-widgets/base",
     "model_name": "LayoutModel",
     "state": {
      "_model_module": "@jupyter-widgets/base",
      "_model_module_version": "1.2.0",
      "_model_name": "LayoutModel",
      "_view_count": null,
      "_view_module": "@jupyter-widgets/base",
      "_view_module_version": "1.2.0",
      "_view_name": "LayoutView",
      "align_content": null,
      "align_items": null,
      "align_self": null,
      "border": null,
      "bottom": null,
      "display": null,
      "flex": null,
      "flex_flow": null,
      "grid_area": null,
      "grid_auto_columns": null,
      "grid_auto_flow": null,
      "grid_auto_rows": null,
      "grid_column": null,
      "grid_gap": null,
      "grid_row": null,
      "grid_template_areas": null,
      "grid_template_columns": null,
      "grid_template_rows": null,
      "height": null,
      "justify_content": null,
      "justify_items": null,
      "left": null,
      "margin": null,
      "max_height": null,
      "max_width": null,
      "min_height": null,
      "min_width": null,
      "object_fit": null,
      "object_position": null,
      "order": null,
      "overflow": null,
      "overflow_x": null,
      "overflow_y": null,
      "padding": null,
      "right": null,
      "top": null,
      "visibility": null,
      "width": null
     }
    },
    "9ceb8c890ff043bd88c7f39e844ec0d7": {
     "model_module": "@jupyter-widgets/controls",
     "model_name": "HBoxModel",
     "state": {
      "_dom_classes": [],
      "_model_module": "@jupyter-widgets/controls",
      "_model_module_version": "1.5.0",
      "_model_name": "HBoxModel",
      "_view_count": null,
      "_view_module": "@jupyter-widgets/controls",
      "_view_module_version": "1.5.0",
      "_view_name": "HBoxView",
      "box_style": "",
      "children": [
       "IPY_MODEL_7f566e6d493d4330a5e9f28a54717d4c",
       "IPY_MODEL_de97da96d17b4933bfab54ea08c8e75c"
      ],
      "layout": "IPY_MODEL_99376197a512483abc17c0954095587f"
     }
    },
    "a1fdafad04ae46d3b1ae3f290f360391": {
     "model_module": "@jupyter-widgets/controls",
     "model_name": "HBoxModel",
     "state": {
      "_dom_classes": [],
      "_model_module": "@jupyter-widgets/controls",
      "_model_module_version": "1.5.0",
      "_model_name": "HBoxModel",
      "_view_count": null,
      "_view_module": "@jupyter-widgets/controls",
      "_view_module_version": "1.5.0",
      "_view_name": "HBoxView",
      "box_style": "",
      "children": [
       "IPY_MODEL_b9cf9e91803849ac8432f37e0aa4f834",
       "IPY_MODEL_88d98cb26d5146cd8f7c8f420cdd2310"
      ],
      "layout": "IPY_MODEL_bcd54fa768e04a5d8094931b116bccb5"
     }
    },
    "b9cf9e91803849ac8432f37e0aa4f834": {
     "model_module": "@jupyter-widgets/controls",
     "model_name": "IntProgressModel",
     "state": {
      "_dom_classes": [],
      "_model_module": "@jupyter-widgets/controls",
      "_model_module_version": "1.5.0",
      "_model_name": "IntProgressModel",
      "_view_count": null,
      "_view_module": "@jupyter-widgets/controls",
      "_view_module_version": "1.5.0",
      "_view_name": "ProgressView",
      "bar_style": "success",
      "description": "100%",
      "description_tooltip": null,
      "layout": "IPY_MODEL_01fea2bb73a546b79106c51b538bfa1d",
      "max": 37,
      "min": 0,
      "orientation": "horizontal",
      "style": "IPY_MODEL_3d1d2e4ac5f641f393cf0011f164bdc7",
      "value": 37
     }
    },
    "bcd54fa768e04a5d8094931b116bccb5": {
     "model_module": "@jupyter-widgets/base",
     "model_name": "LayoutModel",
     "state": {
      "_model_module": "@jupyter-widgets/base",
      "_model_module_version": "1.2.0",
      "_model_name": "LayoutModel",
      "_view_count": null,
      "_view_module": "@jupyter-widgets/base",
      "_view_module_version": "1.2.0",
      "_view_name": "LayoutView",
      "align_content": null,
      "align_items": null,
      "align_self": null,
      "border": null,
      "bottom": null,
      "display": null,
      "flex": null,
      "flex_flow": null,
      "grid_area": null,
      "grid_auto_columns": null,
      "grid_auto_flow": null,
      "grid_auto_rows": null,
      "grid_column": null,
      "grid_gap": null,
      "grid_row": null,
      "grid_template_areas": null,
      "grid_template_columns": null,
      "grid_template_rows": null,
      "height": null,
      "justify_content": null,
      "justify_items": null,
      "left": null,
      "margin": null,
      "max_height": null,
      "max_width": null,
      "min_height": null,
      "min_width": null,
      "object_fit": null,
      "object_position": null,
      "order": null,
      "overflow": null,
      "overflow_x": null,
      "overflow_y": null,
      "padding": null,
      "right": null,
      "top": null,
      "visibility": null,
      "width": null
     }
    },
    "c294ddd7474843ceb0eeca6fec3a56ae": {
     "model_module": "@jupyter-widgets/base",
     "model_name": "LayoutModel",
     "state": {
      "_model_module": "@jupyter-widgets/base",
      "_model_module_version": "1.2.0",
      "_model_name": "LayoutModel",
      "_view_count": null,
      "_view_module": "@jupyter-widgets/base",
      "_view_module_version": "1.2.0",
      "_view_name": "LayoutView",
      "align_content": null,
      "align_items": null,
      "align_self": null,
      "border": null,
      "bottom": null,
      "display": null,
      "flex": null,
      "flex_flow": null,
      "grid_area": null,
      "grid_auto_columns": null,
      "grid_auto_flow": null,
      "grid_auto_rows": null,
      "grid_column": null,
      "grid_gap": null,
      "grid_row": null,
      "grid_template_areas": null,
      "grid_template_columns": null,
      "grid_template_rows": null,
      "height": null,
      "justify_content": null,
      "justify_items": null,
      "left": null,
      "margin": null,
      "max_height": null,
      "max_width": null,
      "min_height": null,
      "min_width": null,
      "object_fit": null,
      "object_position": null,
      "order": null,
      "overflow": null,
      "overflow_x": null,
      "overflow_y": null,
      "padding": null,
      "right": null,
      "top": null,
      "visibility": null,
      "width": null
     }
    },
    "de97da96d17b4933bfab54ea08c8e75c": {
     "model_module": "@jupyter-widgets/controls",
     "model_name": "HTMLModel",
     "state": {
      "_dom_classes": [],
      "_model_module": "@jupyter-widgets/controls",
      "_model_module_version": "1.5.0",
      "_model_name": "HTMLModel",
      "_view_count": null,
      "_view_module": "@jupyter-widgets/controls",
      "_view_module_version": "1.5.0",
      "_view_name": "HTMLView",
      "description": "",
      "description_tooltip": null,
      "layout": "IPY_MODEL_4983aedb60e94bf988fa9b7a2283752f",
      "placeholder": "​",
      "style": "IPY_MODEL_02c9ce129de04212920a3edf53b87115",
      "value": " 37/37 [14:53&lt;00:00, 24.16s/it]"
     }
    },
    "f031646e7bf24b9ba1bf1df98659db82": {
     "model_module": "@jupyter-widgets/base",
     "model_name": "LayoutModel",
     "state": {
      "_model_module": "@jupyter-widgets/base",
      "_model_module_version": "1.2.0",
      "_model_name": "LayoutModel",
      "_view_count": null,
      "_view_module": "@jupyter-widgets/base",
      "_view_module_version": "1.2.0",
      "_view_name": "LayoutView",
      "align_content": null,
      "align_items": null,
      "align_self": null,
      "border": null,
      "bottom": null,
      "display": null,
      "flex": null,
      "flex_flow": null,
      "grid_area": null,
      "grid_auto_columns": null,
      "grid_auto_flow": null,
      "grid_auto_rows": null,
      "grid_column": null,
      "grid_gap": null,
      "grid_row": null,
      "grid_template_areas": null,
      "grid_template_columns": null,
      "grid_template_rows": null,
      "height": null,
      "justify_content": null,
      "justify_items": null,
      "left": null,
      "margin": null,
      "max_height": null,
      "max_width": null,
      "min_height": null,
      "min_width": null,
      "object_fit": null,
      "object_position": null,
      "order": null,
      "overflow": null,
      "overflow_x": null,
      "overflow_y": null,
      "padding": null,
      "right": null,
      "top": null,
      "visibility": null,
      "width": null
     }
    }
   }
  }
 },
 "nbformat": 4,
 "nbformat_minor": 4
}
